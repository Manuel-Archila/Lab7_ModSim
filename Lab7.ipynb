{
 "cells": [
  {
   "cell_type": "markdown",
   "metadata": {},
   "source": [
    "# **Lab 7**\n",
    "\n",
    "**Integrantes:**\n",
    "\n",
    "- Manuel Archila 161250\n",
    "- Juan Avila 20090\n",
    "- Diego Franco 20240"
   ]
  },
  {
   "cell_type": "markdown",
   "metadata": {},
   "source": [
    "## **Ejericicio 1**"
   ]
  },
  {
   "cell_type": "code",
   "execution_count": 1,
   "metadata": {},
   "outputs": [
    {
     "name": "stdout",
     "output_type": "stream",
     "text": [
      "Mejores hiperparámetros para MSE: {'C': 0.001, 'gamma': 0.001}\n",
      "Error cuadrático medio (MSE) con mejores hiperparámetros: 0.00016081174532542151\n"
     ]
    }
   ],
   "source": [
    "import numpy as np\n",
    "from sklearn.svm import SVR\n",
    "from sklearn.model_selection import train_test_split, GridSearchCV\n",
    "from sklearn.metrics import mean_squared_error, r2_score\n",
    "from sklearn.preprocessing import StandardScaler\n",
    "from sklearn.gaussian_process import GaussianProcessRegressor\n",
    "from sklearn.gaussian_process.kernels import RBF\n",
    "\n",
    "def simulate_classifier_performance(C, gamma):\n",
    "    X, y = load_dataset()\n",
    "    X_train, X_test, y_train, y_test = train_test_split(X, y, test_size=0.2, random_state=42)\n",
    "\n",
    "    scaler = StandardScaler()\n",
    "    X_train_scaled = scaler.fit_transform(X_train)\n",
    "    X_test_scaled = scaler.transform(X_test)\n",
    "\n",
    "    clf = SVR(C=C, gamma=gamma, kernel='rbf')\n",
    "    clf.fit(X_train_scaled, y_train)\n",
    "\n",
    "    y_pred = clf.predict(X_test_scaled)\n",
    "\n",
    "    mse = mean_squared_error(y_test, y_pred)\n",
    "    r2 = r2_score(y_test, y_pred)\n",
    "\n",
    "    return mse, r2\n",
    "\n",
    "def load_dataset():\n",
    "    np.random.seed(0)\n",
    "    num_samples = 1000\n",
    "    num_features = 10\n",
    "\n",
    "    X = np.random.rand(num_samples, num_features)\n",
    "    y = np.random.rand(num_samples)\n",
    "\n",
    "    return X, y\n",
    "\n",
    "np.random.seed(0)\n",
    "X = np.random.rand(100, 2) * 10\n",
    "mse_scores, r2_scores = zip(*[simulate_classifier_performance(C, gamma) for C, gamma in X])\n",
    "\n",
    "X_train_mse, X_test_mse, mse_train, mse_test = train_test_split(X, mse_scores, test_size=0.2, random_state=42)\n",
    "\n",
    "X_train_r2, X_test_r2, r2_train, r2_test = train_test_split(X, r2_scores, test_size=0.2, random_state=42)\n",
    "\n",
    "kernel = 1.0 * RBF(length_scale=1.0)\n",
    "gp_mse = GaussianProcessRegressor(kernel=kernel, n_restarts_optimizer=10)\n",
    "gp_mse.fit(X_train_mse, mse_train)\n",
    "\n",
    "param_grid_mse = {\n",
    "    'C': np.logspace(-3, 3, 7),\n",
    "    'gamma': np.logspace(-3, 3, 7)\n",
    "}\n",
    "svm = SVR(kernel='rbf')  # Puedes probar otros kernels aquí también\n",
    "grid_search_mse = GridSearchCV(svm, param_grid_mse, cv=5, scoring='neg_mean_squared_error')\n",
    "grid_search_mse.fit(X, mse_scores)\n",
    "\n",
    "best_params_mse = grid_search_mse.best_params_\n",
    "best_mse = -grid_search_mse.best_score_\n",
    "\n",
    "\n",
    "\n",
    "print(\"Mejores hiperparámetros para MSE:\", best_params_mse)\n",
    "print(\"Error cuadrático medio (MSE) con mejores hiperparámetros:\", best_mse)\n",
    "\n"
   ]
  },
  {
   "cell_type": "markdown",
   "metadata": {},
   "source": [
    "**a. ¿Por qué este es un ejemplo de meta-modelado?**\n",
    "- Porque se está creando un modelo que describe el comportamiento de otro modelo, en este caso el SVM. Se utiliza un modelo de regresión gausiana como el modelo sustitutivo para predecir el rendimiento de un suport vector machine SVM utilizando los datos reales que fueron obtenidos con la función simulate_classifier_performance. Luego de esto se encontraron los mejores hiperparámetros para el SVM utilizando el modelo sustitutivo.\n",
    "\n",
    "**b. ¿Cuál es el modelo sustitutivo?**\n",
    "- El modelo de sustitutivo es el modelo de regresión gausiana, el cual se utiliza para predecir el rendimiento de un modelo SVM. Este se entrena con el conjunto de datos generado por el el clasificador SVM mezclando diferentes valores de C y gamma \n",
    "\n",
    "**c. Explique adecuadamente la construcción de su modelo y qué aplicaciones puede tener en la vida real**\n",
    "\n",
    "- Inicialmente se generan datos simulados para representar el rendimiento del SVM entrenando varios modelos con distintos hiperparámetros para luego calcular la métrica de MSE.\n",
    "\n",
    "- Luego con los datos simulados se separaron los datos en 80% para entrenamiento y 20% para pruebas. Esto con el fin de poder entrenar el modelo sustitutivo y luego evaluarlo con los datos de prueba.\n",
    "\n",
    "- Para calcular la metrica se creó un modelo de regresión gausiana para predecir el rendimiento de la SVM. \n",
    "\n",
    "- Luego se utiliza gridSearch para encontrar los mejores hiperparametros para la SVM utilizando los modelos sustitutivos entrenados. Esto implica probar diferentes combinaciones de valores de C y gamma en una escala logarítmica y evaluar su rendimiento utilizando cross-validation.\n",
    "\n",
    "- Tiene usos como la optimización de hiperparámetros y en la aceleración de procesos costosos. En casos de optimización de hiperparámetros como fue en este modelo se usa mucho en aprendizaje automático, ya que encontrar los mejores hiperparámetros puede ser un proceso muy costoso, por lo que utilizar modelos sustitutivos para estimar el rendimiento del modelo actual de esta forma puede ahorrar bastante tiempo y recursos."
   ]
  },
  {
   "cell_type": "markdown",
   "metadata": {},
   "source": [
    "## **Ejercicio 2**"
   ]
  },
  {
   "cell_type": "markdown",
   "metadata": {},
   "source": [
    "### **a. Explique el concepto de modelo sustituto y su papel en la aproximación de sistemas complejos. Mencione al menos un ejemplo de situaciones en las que el modelado sustituto sea particularmente beneficioso.**\n",
    "\n",
    "Un modelo sustituto es un modelo que tiene la peculiaridad de ser relativamente más sencillo, el cual se utiliza para simular un sistema más complejo y así poder entender, analizar o predecir el comportamiento del sistema complejo.\n",
    "\n",
    "Como se mencionó anteriormente el papel de estos modelos sustitutos es poder adentrarse en la exploracion de sistemas o modelos más complejos sin la necesidad de tener que analizarlos directamente, ya que estos pueden ser muy complejos y no se puede tener una idea clara de su comportamiento. Además que por el hecho de ser complejos su analisis directo puede representar un costo computacional muy alto.\n",
    "\n",
    "### **Ejemplo**\n",
    "\n",
    "Uno de los usos más comunes que se le da a este tipo de modelos es la predicción del clima, ya que el sistema climatico es muy complejo y no se puede analizar directamente, por lo que se utilizan modelos sustitutos para poder predecir su comportamiento"
   ]
  },
  {
   "cell_type": "markdown",
   "metadata": {},
   "source": [
    "### **b. En el contexto del modelado sustituto (meta-modelado), ¿qué se entiende por sesgo de selección del modelo y cómo puede afectar la precisión de las predicciones del modelo sustituto? Detalle al menos una estrategia para mitigar este sesgo.**\n",
    "\n",
    "El sesgo de selección del modelo es el error que se comete al elegir un modelo sustituto, ya que este puede no ser el más adecuado para el sistema que se quiere modelar. Esto puede afectar la precisión de las predicciones del modelo sustituto ya que si el modelo sustituto no es el adecuado, las predicciones que se hagan con este no serán precisas. Este sesgo puede surgir cuando se selecciona un modelo basado en criterios subjetivos o cuando se elige un modelo que se ajusta demasiado (overfitting) a los datos de entrenamiento.\n",
    "\n",
    "### **Estrategía**\n",
    "\n",
    "Validación cruzada: Utilizar técnicas de validación cruzada, como la validación cruzada k-fold o la validación cruzada leave-one-out, para evaluar el rendimiento del modelo sustituto en datos no vistos. Esto ayuda a estimar cómo se comportará el modelo en situaciones del mundo real y reduce la probabilidad de sobreajuste."
   ]
  },
  {
   "cell_type": "markdown",
   "metadata": {},
   "source": [
    "### **c. Analice el equilibrio entre la precisión del modelo y la eficiencia computacional al elegir la complejidad de un modelo sustituto. ¿En qué circunstancias optaría por un modelo más complejo y cuándo sería preferible un modelo más simple?**\n",
    "\n",
    "- Optar por un modelo más complejo:\n",
    "\n",
    "    - Si se dispone de una gran cantidad de datos de alta calidad, un modelo más complejo podría aprovechar más el hecho de tener buena calidad de información. \n",
    "\n",
    "    - Si la precisión es de vital importancia y los recursos computacionales no son un problema, un modelo más complejo podría ser la mejor opción porque se podria hacer una investigacion mucho más detallada.\n",
    "\n",
    "    - Si se sabe que el sistema base es altamente complejo y que las relaciones son difíciles de capturar con un modelo simple, entonces un modelo más complejo podría ser necesario para obtener resultados precisos.\n",
    "\n",
    "- Optar por un modelo más simple:\n",
    "\n",
    "    - Cuando se sabe que no se tiene una amplia libertad sobre los recursos computacionales, un modelo más simple podría ser la mejor opción.\n",
    "\n",
    "    - En algunos casos, la simplicidad del modelo puede ser deseable para facilitar la interpretación y comunicación de los resultados. Los modelos más simples suelen ser más fáciles de comprender y explicar.\n",
    "\n",
    "    - Los modelos más simples tienden a ser menos propensos al sobreajuste, lo que significa que pueden generalizar mejor a nuevos datos. Esto es especialmente importante si se tienen datos limitados o ruidosos.\n",
    "\n"
   ]
  },
  {
   "cell_type": "markdown",
   "metadata": {},
   "source": [
    "### **d. ¿Cuáles son las limitaciones del modelado sustituto y qué tipos de problemas pueden no ser adecuados para la aproximación del modelo sustituto? Proporcione ejemplos para ilustrar estas limitaciones.**\n",
    "\n",
    "- Las limitaciones del pueden ser:\n",
    "    - Los modelos sustitutos son aproximaciones de los modelos base por lo que pueden nos ser perfectas. Esto hace que no se pueda capturar completamente la complejidad del modelo base.\n",
    "    Ejemplo: En el caso de tener una SVM con alto comportamiento no lineal puede ser que el modelo de regresión gausiana no pueda capturar completamente estos comportamientos.\n",
    "\n",
    "    - Los modelos sustitutos pueden ser no muy buenos para predecir valores fuera del rango de los datos de entrenamiento.\n",
    "    Ejemplo: En el caso de tener un modelo sustituto que predice el rendimiento de un modelo SVM, si se le pide que prediga el rendimiento de un SVM con un valor de C o gamma que no se encuentre en el rango de los datos de entrenamiento, el modelo sustituto no podrá predecirlo de forma correcta."
   ]
  },
  {
   "cell_type": "markdown",
   "metadata": {},
   "source": [
    "### **e. Imagine que tiene un problema complejo y de grandes dimensiones con recursos computacionales limitados. ¿Cómo abordaría la reducción de dimensionalidad y la selección de características antes de construir un modelo sustituto? ¿Qué métodos o técnicas podría emplear?**\n",
    "\n",
    "- Se puede utilizar un analisis de componentes principales o PCA para poder reducir la dimensionalidad de los datos y así poder trabajar con un modelo más simple. Esto se puede hacer ya que el PCA es una técnica de reducción de dimensionalidad que se utiliza para reducir un conjunto de variables correlacionadas a un número más pequeño de variables no correlacionadas, llamadas componentes principales.d\n",
    "\n",
    "- Por otro lado se pueden utilizar autoencoders que son redes neuronales que permiten reducir la dimensionalidad, entrenando a la red para reconstruir las entradas después de comprimirlas en una representación de dimensiones más pequeñas que la original."
   ]
  }
 ],
 "metadata": {
  "kernelspec": {
   "display_name": "Python 3",
   "language": "python",
   "name": "python3"
  },
  "language_info": {
   "codemirror_mode": {
    "name": "ipython",
    "version": 3
   },
   "file_extension": ".py",
   "mimetype": "text/x-python",
   "name": "python",
   "nbconvert_exporter": "python",
   "pygments_lexer": "ipython3",
   "version": "3.11.1"
  },
  "orig_nbformat": 4
 },
 "nbformat": 4,
 "nbformat_minor": 2
}
